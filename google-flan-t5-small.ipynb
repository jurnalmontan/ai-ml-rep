{
  "cells": [
    {
      "cell_type": "code",
      "source": [
        "# Deploy google/flan-t5-small for tasks like text generation and summarization.\n",
        "# Install dependencies with:\n",
        "#!pip install transformers torch\n",
        "\n",
        "# Simple completion example\n",
        "# %pip install transformers torch\n",
        "from transformers import AutoModelForSeq2SeqLM, AutoTokenizer, pipeline\n",
        "\n",
        "model_name = \"google/flan-t5-small\" # or \"google/flan-t5-base\", \"google/flan-t5-large\"\n",
        "tokenizer = AutoTokenizer.from_pretrained(model_name) # Load tokenizer\n",
        "model = AutoModelForSeq2SeqLM.from_pretrained(model_name)  # Load model\n",
        "text_generator = pipeline(\"text2text-generation\", model=model, tokenizer=tokenizer) # Create text generation pipeline\n",
        "\n",
        "prompt = \"Complete this sentence: 'I want to'\" # Define prompt\n",
        "result = text_generator(prompt, max_length=50, num_return_sequences=1) # Generate text\n",
        "print(result[0]['generated_text']) # Print generated text"
      ],
      "outputs": [
        {
          "output_type": "stream",
          "name": "stderr",
          "text": "Device set to use cpu\nBoth `max_new_tokens` (=256) and `max_length`(=50) seem to have been set. `max_new_tokens` will take precedence. Please refer to the documentation for more information. (https://huggingface.co/docs/transformers/main/en/main_classes/text_generation)\n"
        },
        {
          "output_type": "stream",
          "name": "stdout",
          "text": "go to a party\n"
        }
      ],
      "execution_count": 5,
      "metadata": {}
    },
    {
      "cell_type": "code",
      "source": [
        "# Summarization example\n",
        "text = (\"\"\"\n",
        "Ticu Lăcătușu opened the path for Romanians on Everest, standing on the world’s highest peak on May 17, 1995, and later cementing his place in history with the Seven Summits..\n",
        "\"\"\")\n",
        "summary = text_generator(f\"summarize: {text}\", max_length=50, min_length=25, do_sample=False, num_return_sequences=1) # Summarize text\n",
        "print(summary[0]['generated_text']) # Print summary  "
      ],
      "outputs": [
        {
          "output_type": "stream",
          "name": "stderr",
          "text": "Both `max_new_tokens` (=256) and `max_length`(=50) seem to have been set. `max_new_tokens` will take precedence. Please refer to the documentation for more information. (https://huggingface.co/docs/transformers/main/en/main_classes/text_generation)\n"
        },
        {
          "output_type": "stream",
          "name": "stdout",
          "text": "Ticu Lăcătușu opened the path for Romanians on Everest, standing on the world’s highest peak on May 17, 1995, and later cementing his place in history with the Seven Summits.\n"
        }
      ],
      "execution_count": 10,
      "metadata": {}
    },
    {
      "cell_type": "code",
      "source": [
        "# Basic conversational AI\n",
        "chatbot_prompt = \"You are a friendly AI assistant. Answer the user’s question with a helpful response.\"\n",
        "messages = [\n",
        "    {\"role\": \"system\", \"content\": chatbot_prompt},\n",
        "    {\"role\": \"user\", \"content\": \"Tell me a truth about Ticu Lăcătușu.\"}\n",
        "]\n",
        "result = text_generator(f\"{chatbot_prompt} {messages[1]['content']}\", max_length=100, num_return_sequences=1) # Generate response\n",
        "print(result[0]['generated_text']) # Print chatbot response \n"
      ],
      "outputs": [
        {
          "output_type": "stream",
          "name": "stderr",
          "text": "Both `max_new_tokens` (=256) and `max_length`(=100) seem to have been set. `max_new_tokens` will take precedence. Please refer to the documentation for more information. (https://huggingface.co/docs/transformers/main/en/main_classes/text_generation)\n"
        },
        {
          "output_type": "stream",
          "name": "stdout",
          "text": "Ticu Lăcătușu is a village in the administrative district of Gmina Lăcătușu, within the administrative district of Gmina Lăcătușu, within the administrative district of Gmina Lăcătușu, within the administrative district of Gmina Lăcătușu, within the administrative district of Gmina Lăcătușu, within the administrative district of Gmina Lăcătușu, within the administrative district of Gmina Lăcătușu, within the administrative district of Gmina Lăcătușu, within the administrative district of Gmina Lăcătușu, within the administrative district of Gmina Lăcătușu, within the administrative district of Gmina Lăcătușu, within the administrative district of Gmina Lăcătușu, within the administrative district of Gmina Lăcătușu, within the administrative district of Gmina Lăcătușu, within the administrative district of Gmina Lăcătușu, within the administrative\n"
        }
      ],
      "execution_count": 14,
      "metadata": {}
    }
  ],
  "metadata": {
    "kernelspec": {
      "name": "python310-sdkv2",
      "language": "python",
      "display_name": "Python 3.10 - SDK v2"
    },
    "language_info": {
      "name": "python",
      "version": "3.10.18",
      "mimetype": "text/x-python",
      "codemirror_mode": {
        "name": "ipython",
        "version": 3
      },
      "pygments_lexer": "ipython3",
      "nbconvert_exporter": "python",
      "file_extension": ".py"
    },
    "nteract": {
      "version": "nteract-front-end@1.0.0"
    }
  },
  "nbformat": 4,
  "nbformat_minor": 2
}