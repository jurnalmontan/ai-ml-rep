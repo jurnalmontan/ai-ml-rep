{
  "cells": [
    {
      "cell_type": "code",
      "source": [
        "# Preparing a model for deployment\n",
        "# 1. Package an ML model along with its dependencies.\n",
        "# 2. Containerize the model using Docker.\n",
        "# 3. Deploy the model locally, and test its performance.\n",
        "# 4. Optionally, deploy the model to a cloud environment for wider accessibility.\n",
        "\n",
        "# 1. Package an ML model along with its dependencies.\n",
        "# Train a simple model and save it\n",
        "from sklearn.datasets import load_iris # Example dataset\n",
        "from sklearn.model_selection import train_test_split # For splitting the dataset\n",
        "from sklearn.linear_model import LogisticRegression # Example model\n",
        "import joblib\n",
        "\n",
        "# Load dataset\n",
        "iris = load_iris() # Example dataset\n",
        "X_train, X_test, y_train, y_test = train_test_split(iris.data, iris.target, test_size=0.2, random_state=42) # Split dataset\n",
        "\n",
        "# Train model\n",
        "model = LogisticRegression(max_iter=200) # Initialize model with increased max_iter\n",
        "model.fit(X_train, y_train) # Train model\n",
        "\n",
        "# Save model\n",
        "joblib.dump(model, 'iris_model.joblib') # Save the trained model to a file"
      ],
      "outputs": [
        {
          "output_type": "execute_result",
          "execution_count": 9,
          "data": {
            "text/plain": "['iris_model.joblib']"
          },
          "metadata": {}
        }
      ],
      "execution_count": 9,
      "metadata": {}
    },
    {
      "cell_type": "code",
      "source": [
        "# Create a Python script for serving the model\n",
        "# This script will use Flask to serve the model as a RESTful API, allowing it to make predictions when called.\n",
        "from flask import Flask, request, jsonify\n",
        "import joblib\n",
        "import numpy as np\n",
        "\n",
        "app = Flask(__name__)\n",
        "\n",
        "# Load the model\n",
        "model = joblib.load('iris_model.joblib')\n",
        "\n",
        "@app.route('/predict', methods=['POST'])\n",
        "def predict():\n",
        "    data = request.get_json(force=True)\n",
        "    features = np.array(data['features']).reshape(1, -1)\n",
        "    prediction = model.predict(features)\n",
        "    return jsonify({'prediction': prediction.tolist()})\n",
        "\n",
        "if __name__ == '__main__':\n",
        "    app.run(host='0.0.0.0', port=8000)\n",
        "\n",
        "# Test the Flask app locally\n",
        "# You can use curl or Postman to send a POST request to the /predict endpoint with a JSON payload containing the features.\n",
        "# Example curl command:\n",
        "# curl -X POST http://localhost:8000/predict -H \"Content-Type: application/json\" -d '{\"features\": [5.1, 3.5, 1.4, 0.2]}'\n",
        "\n",
        "\n"
      ],
      "outputs": [
        {
          "output_type": "stream",
          "name": "stdout",
          "text": " * Serving Flask app '__main__'\n * Debug mode: off\n"
        },
        {
          "output_type": "stream",
          "name": "stderr",
          "text": "WARNING: This is a development server. Do not use it in a production deployment. Use a production WSGI server instead.\n * Running on all addresses (0.0.0.0)\n * Running on http://127.0.0.1:8000\n * Running on http://10.0.0.4:8000\nPress CTRL+C to quit\n"
        }
      ],
      "execution_count": 11,
      "metadata": {}
    },
    {
      "cell_type": "code",
      "source": [
        "# Containerize the model using Docker.\n",
        "# Create a Dockerfile to containerize the Flask app\n",
        "\n",
        "# First, let's create the requirements.txt file\n",
        "requirements_content = \"\"\"Flask==2.0.1\n",
        "scikit-learn==0.24.2\n",
        "joblib==1.0.1\n",
        "numpy==1.21.0\"\"\"\n",
        "\n",
        "with open('requirements.txt', 'w') as f:\n",
        "    f.write(requirements_content)\n",
        "\n",
        "print(\"requirements.txt created successfully!\")\n",
        "\n",
        "# Create the Dockerfile content\n",
        "dockerfile_content = \"\"\"# Use an official Python runtime as a parent image\n",
        "FROM python:3.8-slim\n",
        "\n",
        "# Set the working directory in the container\n",
        "WORKDIR /app\n",
        "\n",
        "# Copy the current directory contents into the container at /app\n",
        "COPY . /app\n",
        "\n",
        "# Install any needed packages specified in requirements.txt\n",
        "RUN pip install --no-cache-dir -r requirements.txt\n",
        "\n",
        "# Make port 8000 available to the world outside this container\n",
        "EXPOSE 8000\n",
        "\n",
        "# Define environment variables\n",
        "ENV FLASK_APP=app.py\n",
        "\n",
        "# Run app.py when the container launches\n",
        "CMD [\"flask\", \"run\", \"--host=0.0.0.0\", \"--port=8000\"]\"\"\"\n",
        "\n",
        "with open('Dockerfile', 'w') as f:\n",
        "    f.write(dockerfile_content)\n",
        "\n",
        "print(\"Dockerfile created successfully!\")\n",
        "\n",
        "# To build the Docker image, run this command in the terminal:\n",
        "# docker build -t iris_model_service .\n",
        "\n",
        "# To run the Docker container:\n",
        "# docker run -d -p 8000:8000 iris_model_service"
      ],
      "outputs": [
        {
          "output_type": "stream",
          "name": "stdout",
          "text": "requirements.txt created successfully!\nDockerfile created successfully!\n"
        }
      ],
      "execution_count": 14,
      "metadata": {}
    },
    {
      "cell_type": "code",
      "source": [
        "# Push Docker image to Docker Hub (your Docker account)\n",
        "import subprocess\n",
        "import os\n",
        "\n",
        "# Replace 'your_username' with your actual Docker Hub username\n",
        "docker_username = \"tosasilviu\"  # Change this to your Docker Hub username\n",
        "image_name = \"iris_model_service\"\n",
        "tag = \"latest\"\n",
        "\n",
        "print(\"Steps to push your Docker image to Docker Hub:\")\n",
        "print(\"=\" * 50)\n",
        "\n",
        "print(\"\\n1. First, tag your image with your Docker Hub username:\")\n",
        "tag_command = f\"docker tag {image_name} {docker_username}/{image_name}:{tag}\"\n",
        "print(f\"   {tag_command}\")\n",
        "\n",
        "print(\"\\n2. Login to Docker Hub:\")\n",
        "login_command = \"docker login\"\n",
        "print(f\"   {login_command}\")\n",
        "print(\"   (You'll be prompted for your Docker Hub username and password)\")\n",
        "\n",
        "print(\"\\n3. Push the image to Docker Hub:\")\n",
        "push_command = f\"docker push {docker_username}/{image_name}:{tag}\"\n",
        "print(f\"   {push_command}\")\n",
        "\n",
        "print(\"\\n4. After pushing, you can view your image at:\")\n",
        "print(f\"   https://hub.docker.com/r/{docker_username}/{image_name}\")\n",
        "\n",
        "print(\"\\n\" + \"=\" * 50)\n",
        "print(\"Executing Docker commands...\")\n",
        "\n",
        "# Step 1: Tag the image\n",
        "print(\"\\nTagging image...\")\n",
        "result1 = subprocess.run([\"docker\", \"tag\", image_name, f\"{docker_username}/{image_name}:{tag}\"], \n",
        "                        capture_output=True, text=True)\n",
        "if result1.returncode == 0:\n",
        "    print(\"✅ Image tagged successfully!\")\n",
        "else:\n",
        "    print(f\"❌ Error tagging image: {result1.stderr}\")\n",
        "\n",
        "# Step 2: Login (you'll need to enter credentials interactively)\n",
        "print(\"\\nAttempting Docker login...\")\n",
        "print(\"Note: You may need to enter your Docker Hub credentials manually in the terminal\")\n",
        "\n",
        "# Step 3: Push the image (will only work after successful login)\n",
        "print(f\"\\nTo complete the push, run this command in terminal:\")\n",
        "print(f\"docker push {docker_username}/{image_name}:{tag}\")\n",
        "\n",
        "print(f\"\\nAfter pushing, your image will be available at:\")\n",
        "print(f\"https://hub.docker.com/r/{docker_username}/{image_name}\")\n",
        "\n",
        "print(f\"\\nOthers can then pull your image using:\")\n",
        "print(f\"docker pull {docker_username}/{image_name}\")"
      ],
      "outputs": [
        {
          "output_type": "stream",
          "name": "stdout",
          "text": "Steps to push your Docker image to Docker Hub:\n==================================================\n\n1. First, tag your image with your Docker Hub username:\n   docker tag iris_model_service tosasilviu/iris_model_service:latest\n\n2. Login to Docker Hub:\n   docker login\n   (You'll be prompted for your Docker Hub username and password)\n\n3. Push the image to Docker Hub:\n   docker push tosasilviu/iris_model_service:latest\n\n4. After pushing, you can view your image at:\n   https://hub.docker.com/r/tosasilviu/iris_model_service\n\n==================================================\nExecuting Docker commands...\n\nTagging image...\n✅ Image tagged successfully!\n\nAttempting Docker login...\nNote: You may need to enter your Docker Hub credentials manually in the terminal\n\nTo complete the push, run this command in terminal:\ndocker push tosasilviu/iris_model_service:latest\n\nAfter pushing, your image will be available at:\nhttps://hub.docker.com/r/tosasilviu/iris_model_service\n\nOthers can then pull your image using:\ndocker pull tosasilviu/iris_model_service\n"
        }
      ],
      "execution_count": 21,
      "metadata": {}
    }
  ],
  "metadata": {
    "kernelspec": {
      "name": "python38-azureml",
      "language": "python",
      "display_name": "Python 3.10 - AzureML"
    },
    "language_info": {
      "name": "python",
      "version": "3.10.11",
      "mimetype": "text/x-python",
      "codemirror_mode": {
        "name": "ipython",
        "version": 3
      },
      "pygments_lexer": "ipython3",
      "nbconvert_exporter": "python",
      "file_extension": ".py"
    },
    "nteract": {
      "version": "nteract-front-end@1.0.0"
    }
  },
  "nbformat": 4,
  "nbformat_minor": 2
}