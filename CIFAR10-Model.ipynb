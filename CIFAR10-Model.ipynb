{
  "cells": [
    {
      "cell_type": "code",
      "source": [
        "# Practice activity: Implementing an ML model from scratch\n",
        "# Dataset: CIFAR-10 dataset, a well-known dataset consisting of 60,000 32x32 color images in 10 different classes. The dataset is already split into 50,000 training images and 10,000 test images.\n",
        "# Choosing a framework: PyTorch, a popular deep learning framework known for its flexibility and ease of use.\n",
        "# Set up your development environment\n",
        "import torch\n",
        "import torch.nn as nn\n",
        "import torch.optim as optim\n",
        "import torchvision\n",
        "import torchvision.transforms as transforms\n",
        "from torch.utils.data import DataLoader\n",
        "import matplotlib.pyplot as plt\n",
        "import numpy as np"
      ],
      "outputs": [],
      "execution_count": null,
      "metadata": {}
    },
    {
      "cell_type": "code",
      "source": [
        "# Load the CIFAR-10 dataset\n",
        "transform = transforms.Compose( # Define the transformations to be applied to the images\n",
        "    [transforms.ToTensor(), # Convert images to PyTorch tensors\n",
        "     transforms.Normalize((0.5, 0.5, 0.5), (0.5, 0.5, 0.5))]) # Normalize the images\n",
        "trainset = torchvision.datasets.CIFAR10(root='./data', train=True, \n",
        "                                        download=True, transform=transform) # Download and load the training dataset\n",
        "trainloader = DataLoader(trainset, batch_size=100,\n",
        "                         shuffle=True, num_workers=2) # Create a DataLoader for the training dataset\n",
        "testset = torchvision.datasets.CIFAR10(root='./data', train=False,\n",
        "                                       download=True, transform=transform) # Download and load the test dataset\n",
        "testloader = DataLoader(testset, batch_size=100,\n",
        "                        shuffle=False, num_workers=2) # Create a DataLoader for the test dataset\n",
        "classes = ('plane', 'car', 'bird', 'cat',\n",
        "           'deer', 'dog', 'frog', 'horse', 'ship', 'truck')  # Define the class labels\n",
        "\n",
        "# Build the model. Define your model architecture using PyTorch's nn.Module\n",
        "import torch.nn.functional as F\n",
        "class Net(nn.Module): # Define a convolutional neural network\n",
        "    def __init__(self): # Initialize the layers of the network\n",
        "        super(Net, self).__init__() # Call the constructor of the parent class\n",
        "        self.conv1 = nn.Conv2d(3, 32, 5) # First convolutional layer\n",
        "        self.pool = nn.MaxPool2d(2, 2) # Max pooling layer\n",
        "        self.conv2 = nn.Conv2d(32, 64, 5) # Second convolutional layer\n",
        "        self.fc1 = nn.Linear(64 * 5 * 5, 128) # First fully connected layer\n",
        "        self.fc2 = nn.Linear(128, 10) # Second fully connected layer\n",
        "\n",
        "    def forward(self, x): # Define the forward pass\n",
        "        x = self.pool(F.relu(self.conv1(x))) # Apply first convolution, ReLU activation, and pooling\n",
        "        x = self.pool(F.relu(self.conv2(x))) # Apply second convolution, ReLU activation, and pooling\n",
        "        x = x.view(-1, 64 * 5 * 5) # Flatten the tensor\n",
        "        x = F.relu(self.fc1(x)) # Apply ReLU activation\n",
        "        x = self.fc2(x) # Apply second fully connected layer\n",
        "        return x # Return the output\n",
        "\n",
        "model = Net() # Instantiate the model\n",
        "\n",
        "# Model training. Define the loss function and optimizer, then train the model\n",
        "criterion = nn.CrossEntropyLoss() # Define the loss function\n",
        "optimizer = optim.SGD(model.parameters(), lr=0.001, momentum=0.9) # Define the optimizer\n",
        "\n",
        "for epoch in range(10): # Loop over the dataset multiple times\n",
        "    running_loss = 0.0 # Initialize running loss for the epoch\n",
        "    for i, data in enumerate(trainloader, 0): # Iterate over the training data\n",
        "        inputs, labels = data # Get the inputs and labels\n",
        "        optimizer.zero_grad() # Zero the parameter gradients\n",
        "        outputs = model(inputs) # Forward pass\n",
        "        loss = criterion(outputs, labels) # Compute the loss\n",
        "        loss.backward() # Backward pass\n",
        "        optimizer.step() # Optimize the model\n",
        "        running_loss += loss.item() # Accumulate the loss\n",
        "        if i % 100 == 99:    # Print every 100 mini-batches\n",
        "            print(f\"Epoch {epoch + 1}, Batch {i + 1}, Loss: {running_loss / 100}\")\n",
        "            running_loss = 0.0 # Reset running loss\n",
        "\n",
        "print(\"Finished Training\") # Indicate that training is complete\n",
        "\n",
        "# Model evaluation. Evaluate the model's performance on the test dataset\n",
        "correct = 0 # Initialize the count of correct predictions\n",
        "total = 0 # Initialize the total count of predictions\n",
        "with torch.no_grad(): # Disable gradient calculation for evaluation\n",
        "    for data in testloader: # Iterate over the test data\n",
        "        images, labels = data # Get the images and labels\n",
        "        outputs = model(images) # Forward pass\n",
        "        _, predicted = torch.max(outputs.data, 1) # Get the predicted class\n",
        "        total += labels.size(0) # Update the total count\n",
        "        correct += (predicted == labels).sum().item() # Update the count of correct predictions\n",
        "\n",
        "print(f\"Accuracy of the network on the 10000 test images: {100 * correct / total}%\") # Print the accuracy\n",
        "\n",
        "# Visualize some predictions\n",
        "dataiter = iter(testloader) # Create an iterator for the test data\n",
        "images, labels = next(dataiter) # Get a batch of test images and labels\n",
        "outputs = model(images) # Forward pass\n",
        "_, predicted = torch.max(outputs, 1) # Get the predicted classes\n",
        "\n",
        "# Function to show an image\n",
        "def imshow(img):\n",
        "    img = img / 2 + 0.5     # Unnormalize the image\n",
        "    npimg = img.numpy() # Convert the tensor to a NumPy array\n",
        "    plt.imshow(np.transpose(npimg, (1, 2, 0))) # Display the image\n",
        "    plt.show() # Show the plot\n",
        "imshow(torchvision.utils.make_grid(images)) # Show a grid of test images\n",
        "print('GroundTruth: ', ' '.join(f'{classes[labels[j]]}' for j in range(4))) # Print the ground truth labels\n",
        "print('Predicted: ', ' '.join(f'{classes[predicted[j]]}' for j in range(4))) # Print the predicted labels\n",
        "\n",
        "# Save the model\n",
        "torch.save(model.state_dict(), 'cifar10_model.pth') # Save the model's state dictionary\n",
        "print(\"Model saved as cifar10_model.pth\") # Indicate that the model has been saved"
      ],
      "outputs": [],
      "execution_count": null,
      "metadata": {}
    },
    {
      "cell_type": "code",
      "source": [
        "# Load the model (for future use)\n",
        "model = Net() # Instantiate the model\n",
        "model.load_state_dict(torch.load('cifar10_model.pth')) # Load the saved state dictionary\n",
        "model.eval() # Set the model to evaluation mode\n",
        "print(\"Model loaded from cifar10_model.pth\") # Indicate that the model has been loaded"
      ],
      "outputs": [],
      "execution_count": null,
      "metadata": {}
    }
  ],
  "metadata": {
    "kernelspec": {
      "name": "python310-sdkv2",
      "language": "python",
      "display_name": "Python 3.10 - SDK v2"
    },
    "language_info": {
      "name": "python",
      "version": "3.10.18",
      "mimetype": "text/x-python",
      "codemirror_mode": {
        "name": "ipython",
        "version": 3
      },
      "pygments_lexer": "ipython3",
      "nbconvert_exporter": "python",
      "file_extension": ".py"
    },
    "microsoft": {
      "ms_spell_check": {
        "ms_spell_check_language": "en"
      }
    },
    "kernel_info": {
      "name": "python310-sdkv2"
    },
    "nteract": {
      "version": "nteract-front-end@1.0.0"
    }
  },
  "nbformat": 4,
  "nbformat_minor": 2
}